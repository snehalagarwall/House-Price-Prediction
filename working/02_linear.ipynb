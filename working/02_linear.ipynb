{
 "cells": [
  {
   "cell_type": "code",
   "execution_count": null,
   "id": "17df7257",
   "metadata": {},
   "outputs": [],
   "source": [
    "from sklearn.linear_model import LinearRegression\n",
    "import pandas as pd\n",
    "from sklearn.model_selection import train_test_split\n",
    "from sklearn.metrics import mean_squared_error"
   ]
  },
  {
   "cell_type": "code",
   "execution_count": 13,
   "id": "1a611f65",
   "metadata": {},
   "outputs": [
    {
     "name": "stdout",
     "output_type": "stream",
     "text": [
      "0.5073561548750558\n"
     ]
    }
   ],
   "source": [
    "data=pd.read_csv('../data/processed_data.csv')\n",
    "X=data.drop(\"price\",axis=1)\n",
    "Y=data[\"price\"]\n",
    "\n",
    "x_train,x_test,y_train,y_test=train_test_split(X,Y,test_size=0.2,random_state=42)\n",
    "\n",
    "model=LinearRegression()\n",
    "model.fit(x_train,y_train)\n",
    "\n",
    "pred=model.predict(x_test)\n",
    "rmse=mean_squared_error(y_test,pred)\n",
    "\n",
    "print(rmse)\n",
    "\n",
    "sample=x_test.iloc[0:1]\n",
    "md=model.predict(sample)\n",
    "\n",
    "with open('../output/metrics.txt','w') as g:\n",
    "    g.write(f'Root Mean Squared Error:{rmse}\\n')\n",
    "    g.write(f'Predicted Sample House Price:{md}')"
   ]
  }
 ],
 "metadata": {
  "kernelspec": {
   "display_name": ".venv",
   "language": "python",
   "name": "python3"
  },
  "language_info": {
   "codemirror_mode": {
    "name": "ipython",
    "version": 3
   },
   "file_extension": ".py",
   "mimetype": "text/x-python",
   "name": "python",
   "nbconvert_exporter": "python",
   "pygments_lexer": "ipython3",
   "version": "3.13.3"
  }
 },
 "nbformat": 4,
 "nbformat_minor": 5
}
